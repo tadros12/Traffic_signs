{
 "cells": [
  {
   "cell_type": "markdown",
   "id": "ff61b364",
   "metadata": {},
   "source": [
    "# exploring data"
   ]
  },
  {
   "cell_type": "code",
   "execution_count": 1,
   "id": "87d018d6",
   "metadata": {},
   "outputs": [],
   "source": [
    "import os\n",
    "import pandas as pd \n",
    "import matplotlib.pyplot as plt\n",
    "import random\n",
    "from PIL import Image\n",
    "import numpy as np\n",
    "import cv2       # type: ignore"
   ]
  },
  {
   "cell_type": "code",
   "execution_count": 2,
   "id": "f0a888b7",
   "metadata": {},
   "outputs": [],
   "source": [
    "train_path = 'dataset/GTSRB/Final_Training/Images'"
   ]
  },
  {
   "cell_type": "code",
   "execution_count": null,
   "id": "cb556174",
   "metadata": {},
   "outputs": [],
   "source": [
    "def loadData(path, resizeSize=(32,32)):\n",
    "    images = []\n",
    "    labels = []\n",
    "    bboxes = []  # boundary box with the sign information \n",
    "    sift_features = []\n",
    "\n",
    "    for class_id in sorted(os.listdir(path)):  # list the classes (folders)  this the first loop which iterates on classes\n",
    "\n",
    "        class_dir = os.path.join(path, class_id) # opens class folder for prossesing images in this calss\n",
    "\n",
    "        class_label = int(class_id) # the label for this calss\n",
    "\n",
    "        annotation_file = os.path.join(class_dir, f'GT-{class_id}.csv')\n",
    "        annotations = pd.read_csv(annotation_file, sep=\";\")\n",
    "\n",
    "\n",
    "\n",
    "\n",
    "        for idx, row in annotations.iterrows():  # instead of lopping in each directory to read its image i used the annotation which has each image file name \n",
    "\n",
    "            img_file = row['Filename']  # the row is a part of the data frame which has the column file name so i can read each image for proccesing it in a single class\n",
    "            img_path = os.path.join(class_dir, img_file)\n",
    "\n",
    "            img = cv2.imread(img_path)\n",
    "            \n",
    "            bbox = {\n",
    "                'x1': row['Roi.X1'],\n",
    "                'y1': row['Roi.Y1'],\n",
    "                'x2': row['Roi.X2'],\n",
    "                'y2': row['Roi.Y2'],\n",
    "                'original_width': row['Width'],\n",
    "                'original_height': row['Height']\n",
    "            }\n",
    "            # procssing the image itself\n",
    "            \n",
    "            img_resize = cv2.resize(img, resizeSize) # this for cnn \n",
    "            img_norm = img_resize / 255.0\n",
    "\n",
    "            # proccessing using sift\n",
    "            gray = cv2.cvtColor(img_resize, cv2.COLOR_BGR2GRAY)\n",
    "            sift = cv2.SIFT_create()\n",
    "            keypoints, descriptors = sift.detectAndCompute(gray, None)\n",
    "\n",
    "            if descriptors is not None:\n",
    "                # print(f\"Number of Keypoints Detected: {len(keypoints)}\")\n",
    "                # print(f\"Descriptor Shape: {descriptors.shape}\")\n",
    "                sift_features.append(descriptors)\n",
    "            else:\n",
    "                # print(f\"No keypoints found for image:\",img_file)\n",
    "                continue\n",
    "            images.append(img_norm)\n",
    "            labels.append(class_label)\n",
    "            bboxes.append(bbox)\n",
    "        print(\"done with class :\", class_id)\n",
    "    x = np.array(images)\n",
    "    y = np.array(labels)\n",
    "    \n",
    "    return x, y, bboxes, sift_features\n",
    "\n",
    "\n",
    "\n",
    "\n"
   ]
  },
  {
   "cell_type": "markdown",
   "id": "fd30b000",
   "metadata": {},
   "source": [
    "# testing loading "
   ]
  },
  {
   "cell_type": "code",
   "execution_count": null,
   "id": "59003f5c",
   "metadata": {},
   "outputs": [
    {
     "name": "stdout",
     "output_type": "stream",
     "text": [
      "done with class : 00000\n",
      "done with class : 00001\n",
      "done with class : 00002\n",
      "done with class : 00003\n",
      "done with class : 00004\n",
      "done with class : 00005\n",
      "done with class : 00006\n",
      "done with class : 00007\n",
      "done with class : 00008\n",
      "done with class : 00009\n",
      "done with class : 00010\n",
      "done with class : 00011\n",
      "done with class : 00012\n",
      "done with class : 00013\n",
      "done with class : 00014\n",
      "done with class : 00015\n",
      "done with class : 00016\n",
      "done with class : 00017\n",
      "done with class : 00018\n",
      "done with class : 00019\n",
      "done with class : 00020\n",
      "done with class : 00021\n",
      "done with class : 00022\n",
      "done with class : 00023\n",
      "done with class : 00024\n",
      "done with class : 00025\n",
      "done with class : 00026\n",
      "done with class : 00027\n",
      "done with class : 00028\n",
      "done with class : 00029\n",
      "done with class : 00030\n",
      "done with class : 00031\n",
      "done with class : 00032\n",
      "done with class : 00033\n",
      "done with class : 00034\n",
      "done with class : 00035\n",
      "done with class : 00036\n",
      "done with class : 00037\n",
      "done with class : 00038\n",
      "done with class : 00039\n",
      "done with class : 00040\n",
      "done with class : 00041\n",
      "done with class : 00042\n"
     ]
    }
   ],
   "source": [
    "\n",
    "\n",
    "x,y,bboxes ,sift = loadData(train_path)\n",
    "\n"
   ]
  },
  {
   "cell_type": "code",
   "execution_count": null,
   "id": "bea3783f",
   "metadata": {},
   "outputs": [
    {
     "name": "stdout",
     "output_type": "stream",
     "text": [
      "(35423, 32, 32, 3)\n",
      "(35423,)\n"
     ]
    },
    {
     "data": {
      "image/png": "[encoded data removed]",
      "text/plain": [
       "<Figure size 640x480 with 1 Axes>"
      ]
     },
     "metadata": {},
     "output_type": "display_data"
    }
   ],
   "source": [
    "print(x.shape)  # N of images , hiehgt , width , channels 3 bcs we are on RGP\n",
    "print(y.shape)\n",
    "\n",
    "plt.Figure(figsize=(5,5))\n",
    "\n",
    "plt.imshow(x[200])\n",
    "plt.title(f\"Traffic Sign Class: {y[200]}\")\n",
    "plt.axis('off')\n",
    "plt.show()\n"
   ]
  },
  {
   "cell_type": "code",
   "execution_count": null,
   "id": "396f8a56",
   "metadata": {},
   "outputs": [],
   "source": []
  }
 ],
 "metadata": {
  "kernelspec": {
   "display_name": "Python 3 (ipykernel)",
   "language": "python",
   "name": "python3"
  },
  "language_info": {
   "codemirror_mode": {
    "name": "ipython",
    "version": 3
   },
   "file_extension": ".py",
   "mimetype": "text/x-python",
   "name": "python",
   "nbconvert_exporter": "python",
   "pygments_lexer": "ipython3",
   "version": "3.11.11"
  }
 },
 "nbformat": 4,
 "nbformat_minor": 5
}
