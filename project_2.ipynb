{
  "cells": [
    {
      "cell_type": "markdown",
      "id": "ff61b364",
      "metadata": {
        "id": "ff61b364"
      },
      "source": [
        "# exploring data"
      ]
    },
    {
      "cell_type": "code",
      "execution_count": 3,
      "id": "87d018d6",
      "metadata": {
        "id": "87d018d6"
      },
      "outputs": [],
      "source": [
        "import os\n",
        "import pandas as pd\n",
        "import matplotlib.pyplot as plt\n",
        "import numpy as np\n",
        "import random\n",
        "import cv2       # type: ignore\n",
        "from skimage.feature import hog\n",
        "from sklearn.svm import SVC\n",
        "from sklearn.metrics import accuracy_score\n",
        "from sklearn.cluster import MiniBatchKMeans\n",
        "from sklearn.preprocessing import normalize\n",
        "from torch.utils.data import Dataset, DataLoader\n",
        "import torch\n",
        "import torch.nn as nn\n",
        "import torch.optim as optim\n",
        "from tqdm import tqdm"
      ]
    },
    {
      "cell_type": "code",
      "execution_count": 12,
      "id": "f0a888b7",
      "metadata": {
        "id": "f0a888b7"
      },
      "outputs": [],
      "source": [
        "train_path = '/home/theodoros/dataset/GTSRB/Final_Training/Images'\n",
        "test_path = '/home/theodoros/dataset/GTSRB/Final_Test/Images'"
      ]
    },
    {
      "cell_type": "code",
      "execution_count": 13,
      "id": "cb556174",
      "metadata": {
        "id": "cb556174"
      },
      "outputs": [],
      "source": [
        "def process_image(img_path, resizeSize):\n",
        "    img = cv2.imread(img_path)\n",
        "    img_resize = cv2.resize(img, resizeSize)\n",
        "    img_norm = img_resize / 255.0\n",
        "    gray = cv2.cvtColor(img_resize, cv2.COLOR_BGR2GRAY)\n",
        "\n",
        "    hog_desc, hog_image = hog(\n",
        "        gray,\n",
        "        pixels_per_cell=(8, 8),\n",
        "        cells_per_block=(2, 2),\n",
        "        block_norm='L2-Hys',\n",
        "        visualize=True,\n",
        "        feature_vector=True\n",
        "    )\n",
        "\n",
        "    sift = cv2.SIFT_create()\n",
        "    keypoints, descriptors = sift.detectAndCompute(gray, None)\n",
        "\n",
        "    return img_norm, keypoints, descriptors, hog_desc, hog_image\n",
        "\n",
        "def loadData(path, load_type, resizeSize=(32, 32)):\n",
        "    images = []\n",
        "    labels = []\n",
        "    bboxes = []\n",
        "    sift_features = []\n",
        "    sift_keypoints = []\n",
        "    hog_features = []\n",
        "    hog_images = []\n",
        "\n",
        "    if load_type == \"Train\":\n",
        "        class_dirs = sorted(os.listdir(path))\n",
        "\n",
        "        for class_id in class_dirs:\n",
        "            class_dir = os.path.join(path, class_id)\n",
        "            class_label = int(class_id)\n",
        "            annotation_file = os.path.join(class_dir, f'GT-{class_id}.csv')\n",
        "            annotations = pd.read_csv(annotation_file, sep=\";\")\n",
        "\n",
        "            for _, row in annotations.iterrows():\n",
        "                img_path = os.path.join(class_dir, row['Filename'])\n",
        "\n",
        "                img_norm, keypoints, descriptors, hog_desc, hog_image = process_image(img_path, resizeSize)\n",
        "\n",
        "                if descriptors is None:\n",
        "                    continue\n",
        "\n",
        "                bbox = {\n",
        "                    'x1': row['Roi.X1'], 'y1': row['Roi.Y1'],\n",
        "                    'x2': row['Roi.X2'], 'y2': row['Roi.Y2'],\n",
        "                    'original_width': row['Width'], 'original_height': row['Height']\n",
        "                }\n",
        "\n",
        "                images.append(img_norm)\n",
        "                labels.append(class_label)\n",
        "                bboxes.append(bbox)\n",
        "                sift_keypoints.append(keypoints)\n",
        "                sift_features.append(descriptors)\n",
        "                hog_features.append(hog_desc)\n",
        "                hog_images.append(hog_image)\n",
        "        \n",
        "        print(\"Done, Train Images are loaded.\")\n",
        "\n",
        "    elif load_type == \"Test\":\n",
        "        annotation_file = \"/home/theodoros/dataset/GT-final_test.csv\"\n",
        "        annotations = pd.read_csv(annotation_file, sep=\";\")\n",
        "\n",
        "        for _, row in annotations.iterrows():\n",
        "            img_path = os.path.join(path, row['Filename'])\n",
        "            class_label = int(row['ClassId'])\n",
        "\n",
        "            img_norm, keypoints, descriptors, hog_desc, hog_image = process_image(img_path, resizeSize)\n",
        "\n",
        "            if descriptors is None:\n",
        "                continue\n",
        "\n",
        "            bbox = {\n",
        "                'x1': row['Roi.X1'], 'y1': row['Roi.Y1'],\n",
        "                'x2': row['Roi.X2'], 'y2': row['Roi.Y2'],\n",
        "                'original_width': row['Width'], 'original_height': row['Height']\n",
        "            }\n",
        "\n",
        "            images.append(img_norm)\n",
        "            labels.append(class_label)\n",
        "            bboxes.append(bbox)\n",
        "            sift_keypoints.append(keypoints)\n",
        "            sift_features.append(descriptors)\n",
        "            hog_features.append(hog_desc)\n",
        "            hog_images.append(hog_image)\n",
        "        \n",
        "        print(\"Done, Test Images are loaded.\")\n",
        "\n",
        "    X = np.array(images)\n",
        "    y = np.array(labels)\n",
        "\n",
        "    return X, y, bboxes, sift_features, sift_keypoints, hog_features, hog_images"
      ]
    },
    {
      "cell_type": "markdown",
      "id": "fd30b000",
      "metadata": {
        "id": "fd30b000"
      },
      "source": [
        "# testing loading"
      ]
    },
    {
      "cell_type": "code",
      "execution_count": 14,
      "id": "59003f5c",
      "metadata": {
        "id": "59003f5c",
        "outputId": "fea95c7a-6b0a-4d21-b3d7-2bdcc0efdc0a"
      },
      "outputs": [
        {
          "name": "stdout",
          "output_type": "stream",
          "text": [
            "Done, Train Images are loaded.\n",
            "Done, Test Images are loaded.\n"
          ]
        }
      ],
      "source": [
        "X_train, y_train, bboxes_train, sift_features_train, sift_keypoints_train, hog_features_train, hog_images_train = loadData(train_path, \"Train\")\n",
        "X_test, y_test, bboxes_test, sift_features_test, sift_keypoints_test, hog_features_test, hog_images_test = loadData(test_path, \"Test\")"
      ]
    },
    {
      "cell_type": "code",
      "execution_count": 15,
      "id": "bea3783f",
      "metadata": {
        "id": "bea3783f",
        "outputId": "d294c8e4-c39a-4480-9ce0-b3932d9646ec"
      },
      "outputs": [
        {
          "name": "stdout",
          "output_type": "stream",
          "text": [
            "(35423, 32, 32, 3)\n",
            "(35423,)\n"
          ]
        },
        {
          "data": {
            "image/png": "[encoded data removed]",
            "text/plain": [
              "<Figure size 640x480 with 1 Axes>"
            ]
          },
          "metadata": {},
          "output_type": "display_data"
        }
      ],
      "source": [
        "print(X_train.shape)  # N of images , hiehgt , width , channels 3 bcs we are on RGP\n",
        "print(y_train.shape)\n",
        "\n",
        "test_img = random.randint(0, X_train.shape[0])\n",
        "plt.Figure(figsize=(5,5))\n",
        "\n",
        "plt.imshow(X_train[test_img])\n",
        "plt.title(f\"Traffic Sign Class: {y_train[test_img]}\")\n",
        "plt.axis('off')\n",
        "plt.show()"
      ]
    },
    {
      "cell_type": "code",
      "execution_count": 16,
      "id": "396f8a56",
      "metadata": {
        "id": "396f8a56",
        "outputId": "ccb044c9-400d-4389-d9e0-0146c1b7b4e1"
      },
      "outputs": [
        {
          "data": {
            "image/png": "[encoded data removed]",
            "text/plain": [
              "<Figure size 640x480 with 1 Axes>"
            ]
          },
          "metadata": {},
          "output_type": "display_data"
        }
      ],
      "source": [
        "image_uint8 = (X_train[test_img] * 255).astype(np.uint8)\n",
        "image_with_keypoints = cv2.drawKeypoints(image_uint8, sift_keypoints_train[test_img], None, flags=cv2.DRAW_MATCHES_FLAGS_DRAW_RICH_KEYPOINTS)\n",
        "\n",
        "plt.imshow(image_with_keypoints, cmap=\"gray\")\n",
        "plt.title(\"SIFT Keypoints\")\n",
        "plt.show()"
      ]
    },
    {
      "cell_type": "code",
      "execution_count": 17,
      "id": "82f20af1",
      "metadata": {
        "id": "82f20af1",
        "outputId": "8e2f447f-0da9-4129-ca8c-d52ad171777c"
      },
      "outputs": [
        {
          "data": {
            "image/png": "[encoded data removed]",
            "text/plain": [
              "<Figure size 640x480 with 1 Axes>"
            ]
          },
          "metadata": {},
          "output_type": "display_data"
        }
      ],
      "source": [
        "plt.imshow(hog_images_train[test_img], cmap='gray')\n",
        "plt.title(\"HOG Visualization\")\n",
        "plt.show()"
      ]
    },
    {
      "cell_type": "markdown",
      "id": "6363ad67",
      "metadata": {
        "id": "6363ad67"
      },
      "source": [
        "### Training svm with Plain Images Vs HOG Features"
      ]
    },
    {
      "cell_type": "code",
      "execution_count": 20,
      "id": "6c8b217f",
      "metadata": {},
      "outputs": [],
      "source": [
        "X_train = X_train.reshape(-1, 32*32*3)"
      ]
    },
    {
      "cell_type": "code",
      "execution_count": 22,
      "id": "82348e8b",
      "metadata": {
        "id": "82348e8b"
      },
      "outputs": [
        {
          "name": "stdout",
          "output_type": "stream",
          "text": [
            "Plain Images Accuracy: \n",
            "HOG Features Accuracy: 0.8051800819743612\n"
          ]
        }
      ],
      "source": [
        "# svm_plain = SVC(kernel='linear', probability=True, random_state=42)\n",
        "#svm_plain.fit(X_train, y_train) ## just the Images as it is\n",
        "svm_hog = SVC(kernel='linear', probability=True, random_state=42)\n",
        "svm_hog.fit(hog_features_train, y_train)\n",
        "\n",
        "#_pred_plain = svm_plain.predict(X_test)\n",
        "y_pred_hog = svm_hog.predict(hog_features_test)\n",
        "#accuracy_plain = accuracy_score(y_test, y_pred_plain)\n",
        "accuracy_hog = accuracy_score(y_test, y_pred_hog)\n",
        "print(f\"Plain Images Accuracy: \\nHOG Features Accuracy: {accuracy_hog}\")"
      ]
    },
    {
      "cell_type": "code",
      "execution_count": null,
      "id": "0f567e9b",
      "metadata": {},
      "outputs": [],
      "source": []
    },
    {
      "cell_type": "code",
      "execution_count": 31,
      "id": "341d8abd",
      "metadata": {},
      "outputs": [],
      "source": [
        "class GTSRBDataset(Dataset):\n",
        "    def __init__(self, root_dir, load_type='Train', resize_size=(64, 64), transform=None, use_features=True):\n",
        "        self.root_dir = root_dir\n",
        "        self.load_type = load_type\n",
        "        self.resize_size = resize_size\n",
        "        self.transform = transform\n",
        "        self.use_features = use_features\n",
        "        self.data = []\n",
        "        self._load_data()\n",
        "\n",
        "    def _load_data(self):\n",
        "        if self.load_type == \"Train\":\n",
        "            class_dirs = sorted(os.listdir(self.root_dir))\n",
        "            for class_id in class_dirs:\n",
        "                class_dir = os.path.join(self.root_dir, class_id)\n",
        "                class_label = int(class_id)\n",
        "                annotation_file = os.path.join(class_dir, f'GT-{class_id}.csv')\n",
        "                annotations = pd.read_csv(annotation_file, sep=';')\n",
        "\n",
        "                for _, row in annotations.iterrows():\n",
        "                    self.data.append({\n",
        "                        'img_path': os.path.join(class_dir, row['Filename']),\n",
        "                        'label': class_label,\n",
        "                        'bbox': {\n",
        "                            'x1': row['Roi.X1'], 'y1': row['Roi.Y1'],\n",
        "                            'x2': row['Roi.X2'], 'y2': row['Roi.Y2'],\n",
        "                            'original_width': row['Width'], 'original_height': row['Height']\n",
        "                        }\n",
        "                    })\n",
        "        elif self.load_type == \"Test\":\n",
        "            annotation_file = \"/home/theodoros/dataset/GT-final_test.csv\"\n",
        "            annotations = pd.read_csv(annotation_file, sep=';')\n",
        "\n",
        "            for _, row in annotations.iterrows():\n",
        "                self.data.append({\n",
        "                    'img_path': os.path.join(self.root_dir, row['Filename']),\n",
        "                    'label': int(row['ClassId']),\n",
        "                    'bbox': {\n",
        "                        'x1': row['Roi.X1'], 'y1': row['Roi.Y1'],\n",
        "                        'x2': row['Roi.X2'], 'y2': row['Roi.Y2'],\n",
        "                        'original_width': row['Width'], 'original_height': row['Height']\n",
        "                    }\n",
        "                })\n",
        "\n",
        "    def _process_image(self, img_path):\n",
        "        img = cv2.imread(img_path)\n",
        "        img_resize = cv2.resize(img, self.resize_size)\n",
        "        img_norm = img_resize / 255.0\n",
        "        gray = cv2.cvtColor(img_resize, cv2.COLOR_BGR2GRAY)\n",
        "\n",
        "        if self.use_features:\n",
        "            hog_desc, hog_image = hog(\n",
        "                gray,\n",
        "                pixels_per_cell=(8, 8),\n",
        "                cells_per_block=(2, 2),\n",
        "                block_norm='L2-Hys',\n",
        "                visualize=True,\n",
        "                feature_vector=True\n",
        "            )\n",
        "\n",
        "            sift = cv2.SIFT_create()\n",
        "            keypoints, descriptors = sift.detectAndCompute(gray, None)\n",
        "\n",
        "            return img_norm, keypoints, descriptors, hog_desc, hog_image\n",
        "        else:\n",
        "            return img_norm, None, None, None, None\n",
        "\n",
        "    def __len__(self):\n",
        "        return len(self.data)\n",
        "\n",
        "    def __getitem__(self, idx):\n",
        "        item = self.data[idx]\n",
        "        img_path = item['img_path']\n",
        "        label = item['label']\n",
        "        bbox = item['bbox']\n",
        "\n",
        "        img_norm, keypoints, descriptors, hog_desc, hog_image = self._process_image(img_path)\n",
        "\n",
        "        image_tensor = torch.tensor(img_norm, dtype=torch.float).permute(2, 0, 1)  ## CHW format\n",
        "\n",
        "        if self.transform:\n",
        "            image_tensor = self.transform(image_tensor)\n",
        "\n",
        "        sample = {\n",
        "            'image': image_tensor,\n",
        "            'label': torch.tensor(label, dtype=torch.long),\n",
        "            'bbox': bbox\n",
        "        }\n",
        "\n",
        "        if self.use_features:\n",
        "            if descriptors is None:\n",
        "                descriptors = np.zeros((1, 128), dtype=np.float32)\n",
        "            sample.update({\n",
        "                'sift_features': descriptors,\n",
        "                'hog_features': torch.tensor(hog_desc, dtype=torch.float),\n",
        "                'hog_image': torch.tensor(hog_image, dtype=torch.float)\n",
        "            })\n",
        "\n",
        "        return sample"
      ]
    },
    {
      "cell_type": "code",
      "execution_count": 24,
      "id": "7336cb86",
      "metadata": {},
      "outputs": [],
      "source": [
        "class SimpleResCNN(nn.Module):\n",
        "    def __init__(self, num_classes=43):  ## Our dataset (GTSRB) has 43 classes\n",
        "        super(SimpleResCNN, self).__init__()\n",
        "        \n",
        "        ## (first convvv)\n",
        "        self.conv1 = nn.Sequential(\n",
        "            nn.Conv2d(3, 32, kernel_size=3, padding=1),\n",
        "            nn.BatchNorm2d(32),\n",
        "            nn.ReLU(),\n",
        "            nn.Conv2d(32, 32, kernel_size=3, padding=1),\n",
        "            nn.BatchNorm2d(32),\n",
        "            nn.ReLU(),\n",
        "            nn.MaxPool2d(2)  ## 64 -> 32\n",
        "        )\n",
        "        \n",
        "        ## (second convvv + skip conn)\n",
        "        self.conv2_main = nn.Sequential(\n",
        "            nn.Conv2d(32, 64, kernel_size=3, padding=1),\n",
        "            nn.BatchNorm2d(64),\n",
        "            nn.ReLU(),\n",
        "            nn.Conv2d(64, 64, kernel_size=3, padding=1),\n",
        "            nn.BatchNorm2d(64)\n",
        "        )\n",
        "        self.conv2_skip = nn.Conv2d(32, 64, kernel_size=1)\n",
        "\n",
        "        self.relu2 = nn.ReLU()\n",
        "        self.pool2 = nn.MaxPool2d(2)  ## 32 -> 16\n",
        "\n",
        "        ## (another final conv, like a combiner one)\n",
        "        self.conv3 = nn.Sequential(\n",
        "            nn.Conv2d(64, 128, kernel_size=3, padding=1),\n",
        "            nn.BatchNorm2d(128),\n",
        "            nn.ReLU(),\n",
        "            nn.Conv2d(128, 128, kernel_size=3, padding=1),\n",
        "            nn.BatchNorm2d(128),\n",
        "            nn.ReLU(),\n",
        "            nn.MaxPool2d(2)  ## 16 -> 8\n",
        "        )\n",
        "\n",
        "        ## Classifier (final step)\n",
        "        self.gap = nn.AdaptiveAvgPool2d(1)  ## 8x8 -> 1x1\n",
        "        self.fc = nn.Linear(128, num_classes)\n",
        "\n",
        "    def forward(self, x):\n",
        "        ## step 1\n",
        "        x = self.conv1(x)  ## (3, 64, 64) -> (32, 32, 32)\n",
        "\n",
        "        ## step 2\n",
        "        identity = self.conv2_skip(x)  ## (32, 32, 32) -> (64, 32, 32)\n",
        "        out = self.conv2_main(x)\n",
        "        x = self.relu2(out + identity)  ## Residual conn\n",
        "        x = self.pool2(x)  ## -> (64, 16, 16)\n",
        "\n",
        "        ## step 3\n",
        "        x = self.conv3(x)  ## -> (128, 8, 8)\n",
        "        \n",
        "        ## step 4\n",
        "        x = self.gap(x).view(x.size(0), -1)  ## -> (128,)\n",
        "        out = self.fc(x)\n",
        "        \n",
        "        return out"
      ]
    },
    {
      "cell_type": "code",
      "execution_count": null,
      "id": "5fc5c2fe",
      "metadata": {},
      "outputs": [],
      "source": [
        "device = torch.device('cuda' if torch.cuda.is_available() else 'cpu')\n",
        "\n",
        "train_dataset = GTSRBDataset(root_dir=train_path, load_type='Train', use_features=False)\n",
        "train_loader = DataLoader(train_dataset, batch_size=64, shuffle=True, num_workers=4)\n",
        "test_dataset = GTSRBDataset(root_dir=test_path, load_type='Test', use_features=False)\n",
        "test_loader = DataLoader(test_dataset, batch_size=64, shuffle=True, num_workers=4)\n",
        "model = SimpleResCNN(num_classes=43).to(device)\n",
        "criterion = nn.CrossEntropyLoss()\n",
        "optimizer = optim.AdamW(model.parameters(), lr=1e-3)"
      ]
    },
    {
      "cell_type": "code",
      "execution_count": 36,
      "id": "4a4a4b89",
      "metadata": {},
      "outputs": [
        {
          "name": "stderr",
          "output_type": "stream",
          "text": [
            "Epoch [1/5]: 100%|█████████████████████████████████████████████████████████████████████████████████████████████████████████████████████████████████████████████████████████████████| 613/613 [00:23<00:00, 26.65it/s, acc=47.1, loss=0.717]\n"
          ]
        },
        {
          "name": "stdout",
          "output_type": "stream",
          "text": [
            "\n",
            "Epoch [1/5] Train Acc: 47.07%, Val Acc: 73.86%, Val Loss: 0.9126\n"
          ]
        },
        {
          "name": "stderr",
          "output_type": "stream",
          "text": [
            "Epoch [2/5]: 100%|███████████████████████████████████████████████████████████████████████████████████████████████████████████████████████████████████████████████████████████████████| 613/613 [00:23<00:00, 26.49it/s, acc=96, loss=0.103]\n"
          ]
        },
        {
          "name": "stdout",
          "output_type": "stream",
          "text": [
            "\n",
            "Epoch [2/5] Train Acc: 95.99%, Val Acc: 94.53%, Val Loss: 0.2764\n"
          ]
        },
        {
          "name": "stderr",
          "output_type": "stream",
          "text": [
            "Epoch [3/5]: 100%|████████████████████████████████████████████████████████████████████████████████████████████████████████████████████████████████████████████████████████████████| 613/613 [00:23<00:00, 26.45it/s, acc=99.5, loss=0.0507]\n"
          ]
        },
        {
          "name": "stdout",
          "output_type": "stream",
          "text": [
            "\n",
            "Epoch [3/5] Train Acc: 99.49%, Val Acc: 93.50%, Val Loss: 0.2319\n"
          ]
        },
        {
          "name": "stderr",
          "output_type": "stream",
          "text": [
            "Epoch [4/5]: 100%|████████████████████████████████████████████████████████████████████████████████████████████████████████████████████████████████████████████████████████████████| 613/613 [00:23<00:00, 26.16it/s, acc=99.7, loss=0.0264]\n"
          ]
        },
        {
          "name": "stdout",
          "output_type": "stream",
          "text": [
            "\n",
            "Epoch [4/5] Train Acc: 99.72%, Val Acc: 96.89%, Val Loss: 0.1175\n"
          ]
        },
        {
          "name": "stderr",
          "output_type": "stream",
          "text": [
            "Epoch [5/5]: 100%|████████████████████████████████████████████████████████████████████████████████████████████████████████████████████████████████████████████████████████████████| 613/613 [00:24<00:00, 24.87it/s, acc=99.8, loss=0.0358]\n"
          ]
        },
        {
          "name": "stdout",
          "output_type": "stream",
          "text": [
            "\n",
            "Epoch [5/5] Train Acc: 99.81%, Val Acc: 95.11%, Val Loss: 0.2054\n"
          ]
        }
      ],
      "source": [
        "num_epochs = 5\n",
        "\n",
        "for epoch in range(num_epochs):\n",
        "        model.train()\n",
        "        running_loss = 0.0\n",
        "        correct_train = 0\n",
        "        total_train = 0\n",
        "\n",
        "        # Training loop\n",
        "        loop = tqdm(train_loader, desc=f\"Epoch [{epoch+1}/{num_epochs}]\")\n",
        "        for batch in loop:\n",
        "            images = batch['image'].to(device)\n",
        "            labels = batch['label'].to(device)\n",
        "\n",
        "            optimizer.zero_grad()\n",
        "            outputs = model(images)\n",
        "            loss = criterion(outputs, labels)\n",
        "            loss.backward()\n",
        "            optimizer.step()\n",
        "\n",
        "            running_loss += loss.item()\n",
        "            _, preds = torch.max(outputs, 1)\n",
        "            correct_train += (preds == labels).sum().item()\n",
        "            total_train += labels.size(0)\n",
        "\n",
        "            loop.set_postfix(loss=loss.item(), acc=100. * correct_train / total_train)\n",
        "\n",
        "        # Validation block\n",
        "        model.eval()\n",
        "        val_loss = 0.0\n",
        "        correct_val = 0\n",
        "        total_val = 0\n",
        "        with torch.inference_mode():\n",
        "            for batch in test_loader:\n",
        "                images = batch['image'].to(device)\n",
        "                labels = batch['label'].to(device)\n",
        "\n",
        "                outputs = model(images)\n",
        "                loss = criterion(outputs, labels)\n",
        "\n",
        "                val_loss += loss.item()\n",
        "                _, preds = torch.max(outputs, 1)\n",
        "                correct_val += (preds == labels).sum().item()\n",
        "                total_val += labels.size(0)\n",
        "\n",
        "        val_acc = 100. * correct_val / total_val\n",
        "        print(f\"\\nEpoch [{epoch+1}/{num_epochs}] \"\n",
        "              f\"Train Acc: {100. * correct_train / total_train:.2f}%, \"\n",
        "              f\"Val Acc: {val_acc:.2f}%, \"\n",
        "              f\"Val Loss: {val_loss / len(test_loader):.4f}\")"
      ]
    },
    {
      "cell_type": "code",
      "execution_count": null,
      "id": "3638dbbe",
      "metadata": {},
      "outputs": [],
      "source": []
    },
    {
      "cell_type": "code",
      "execution_count": null,
      "id": "1188c989",
      "metadata": {},
      "outputs": [],
      "source": []
    }
  ],
  "metadata": {
    "colab": {
      "provenance": []
    },
    "kernelspec": {
      "display_name": "Python 3 (ipykernel)",
      "language": "python",
      "name": "python3"
    },
    "language_info": {
      "codemirror_mode": {
        "name": "ipython",
        "version": 3
      },
      "file_extension": ".py",
      "mimetype": "text/x-python",
      "name": "python",
      "nbconvert_exporter": "python",
      "pygments_lexer": "ipython3",
      "version": "3.11.11"
    }
  },
  "nbformat": 4,
  "nbformat_minor": 5
}
