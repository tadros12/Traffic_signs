{
 "cells": [
  {
   "cell_type": "code",
   "execution_count": 1,
   "id": "82194fbf",
   "metadata": {},
   "outputs": [],
   "source": [
    "import os\n",
    "import pandas as pd\n",
    "import matplotlib.pyplot as plt\n",
    "import numpy as np\n",
    "import random\n",
    "import cv2       # type: ignore\n",
    "from skimage.feature import hog\n",
    "from sklearn.svm import SVC\n",
    "from sklearn.metrics import accuracy_score\n",
    "from sklearn.cluster import MiniBatchKMeans\n",
    "from sklearn.preprocessing import normalize\n",
    "from torch.utils.data import Dataset, DataLoader\n",
    "import torch\n",
    "import torch.nn as nn\n",
    "import torch.optim as optim\n",
    "from tqdm import tqdm"
   ]
  },
  {
   "cell_type": "code",
   "execution_count": 2,
   "id": "40d95684",
   "metadata": {},
   "outputs": [],
   "source": [
    "train_path = '/home/theodoros/dataset/GTSRB/Final_Training/Images'\n",
    "test_path = '/home/theodoros/dataset/GTSRB/Final_Test/Images'"
   ]
  },
  {
   "cell_type": "code",
   "execution_count": 3,
   "id": "223b3798",
   "metadata": {},
   "outputs": [],
   "source": [
    "def process_image(img_path, resizeSize):\n",
    "    img = cv2.imread(img_path)\n",
    "    img_resize = cv2.resize(img, resizeSize)\n",
    "    img_norm = img_resize / 255.0\n",
    "    gray = cv2.cvtColor(img_resize, cv2.COLOR_BGR2GRAY)\n",
    "\n",
    "    hog_desc, hog_image = hog(\n",
    "        gray,\n",
    "        pixels_per_cell=(8, 8),\n",
    "        cells_per_block=(2, 2),\n",
    "        block_norm='L2-Hys',\n",
    "        visualize=True,\n",
    "        feature_vector=True\n",
    "    )\n",
    "\n",
    "    sift = cv2.SIFT_create()\n",
    "    keypoints, descriptors = sift.detectAndCompute(gray, None)\n",
    "\n",
    "    return img_norm, keypoints, descriptors, hog_desc, hog_image\n",
    "\n",
    "def loadData(path, load_type, resizeSize=(32, 32)):\n",
    "    images = []\n",
    "    labels = []\n",
    "    bboxes = []\n",
    "    sift_features = []\n",
    "    sift_keypoints = []\n",
    "    hog_features = []\n",
    "    hog_images = []\n",
    "\n",
    "    if load_type == \"Train\":\n",
    "        class_dirs = sorted(os.listdir(path))\n",
    "\n",
    "        for class_id in class_dirs:\n",
    "            class_dir = os.path.join(path, class_id)\n",
    "            class_label = int(class_id)\n",
    "            annotation_file = os.path.join(class_dir, f'GT-{class_id}.csv')\n",
    "            annotations = pd.read_csv(annotation_file, sep=\";\")\n",
    "\n",
    "            for _, row in annotations.iterrows():\n",
    "                img_path = os.path.join(class_dir, row['Filename'])\n",
    "\n",
    "                img_norm, keypoints, descriptors, hog_desc, hog_image = process_image(img_path, resizeSize)\n",
    "\n",
    "                if descriptors is None:\n",
    "                    continue\n",
    "\n",
    "                bbox = {\n",
    "                    'x1': row['Roi.X1'], 'y1': row['Roi.Y1'],\n",
    "                    'x2': row['Roi.X2'], 'y2': row['Roi.Y2'],\n",
    "                    'original_width': row['Width'], 'original_height': row['Height']\n",
    "                }\n",
    "\n",
    "                images.append(img_norm)\n",
    "                labels.append(class_label)\n",
    "                bboxes.append(bbox)\n",
    "                sift_keypoints.append(keypoints)\n",
    "                sift_features.append(descriptors)\n",
    "                hog_features.append(hog_desc)\n",
    "                hog_images.append(hog_image)\n",
    "        \n",
    "        print(\"Done, Train Images are loaded.\")\n",
    "\n",
    "    elif load_type == \"Test\":\n",
    "        annotation_file = \"/home/theodoros/dataset/GT-final_test.csv\"\n",
    "        annotations = pd.read_csv(annotation_file, sep=\";\")\n",
    "\n",
    "        for _, row in annotations.iterrows():\n",
    "            img_path = os.path.join(path, row['Filename'])\n",
    "            class_label = int(row['ClassId'])\n",
    "\n",
    "            img_norm, keypoints, descriptors, hog_desc, hog_image = process_image(img_path, resizeSize)\n",
    "\n",
    "            if descriptors is None:\n",
    "                continue\n",
    "\n",
    "            bbox = {\n",
    "                'x1': row['Roi.X1'], 'y1': row['Roi.Y1'],\n",
    "                'x2': row['Roi.X2'], 'y2': row['Roi.Y2'],\n",
    "                'original_width': row['Width'], 'original_height': row['Height']\n",
    "            }\n",
    "\n",
    "            images.append(img_norm)\n",
    "            labels.append(class_label)\n",
    "            bboxes.append(bbox)\n",
    "            sift_keypoints.append(keypoints)\n",
    "            sift_features.append(descriptors)\n",
    "            hog_features.append(hog_desc)\n",
    "            hog_images.append(hog_image)\n",
    "        \n",
    "        print(\"Done, Test Images are loaded.\")\n",
    "\n",
    "    X = np.array(images)\n",
    "    y = np.array(labels)\n",
    "\n",
    "    return X, y, bboxes, sift_features, sift_keypoints, hog_features, hog_images"
   ]
  },
  {
   "cell_type": "code",
   "execution_count": 4,
   "id": "5412e648",
   "metadata": {},
   "outputs": [
    {
     "name": "stdout",
     "output_type": "stream",
     "text": [
      "Done, Train Images are loaded.\n",
      "Done, Test Images are loaded.\n"
     ]
    }
   ],
   "source": [
    "X_train, y_train, bboxes_train, sift_features_train, sift_keypoints_train, hog_features_train, hog_images_train = loadData(train_path, \"Train\")\n",
    "X_test, y_test, bboxes_test, sift_features_test, sift_keypoints_test, hog_features_test, hog_images_test = loadData(test_path, \"Test\")"
   ]
  },
  {
   "cell_type": "code",
   "execution_count": 5,
   "id": "6381725a",
   "metadata": {},
   "outputs": [
    {
     "name": "stdout",
     "output_type": "stream",
     "text": [
      "(35423, 32, 32, 3)\n",
      "(35423,)\n"
     ]
    },
    {
     "data": {
      "image/png": "[encoded data removed]",
      "text/plain": [
       "<Figure size 640x480 with 1 Axes>"
      ]
     },
     "metadata": {},
     "output_type": "display_data"
    }
   ],
   "source": [
    "print(X_train.shape)  # N of images , hiehgt , width , channels 3 bcs we are on RGP\n",
    "print(y_train.shape)\n",
    "\n",
    "test_img = random.randint(0, X_train.shape[0])\n",
    "plt.Figure(figsize=(5,5))\n",
    "\n",
    "plt.imshow(X_train[test_img])\n",
    "plt.title(f\"Traffic Sign Class: {y_train[test_img]}\")\n",
    "plt.axis('off')\n",
    "plt.show()"
   ]
  },
  {
   "cell_type": "code",
   "execution_count": 6,
   "id": "e2b5028a",
   "metadata": {},
   "outputs": [
    {
     "data": {
      "image/png": "[encoded data removed]",
      "text/plain": [
       "<Figure size 640x480 with 1 Axes>"
      ]
     },
     "metadata": {},
     "output_type": "display_data"
    }
   ],
   "source": [
    "image_uint8 = (X_train[test_img] * 255).astype(np.uint8)\n",
    "image_with_keypoints = cv2.drawKeypoints(image_uint8, sift_keypoints_train[test_img], None, flags=cv2.DRAW_MATCHES_FLAGS_DRAW_RICH_KEYPOINTS)\n",
    "\n",
    "plt.imshow(image_with_keypoints, cmap=\"gray\")\n",
    "plt.title(\"SIFT Keypoints\")\n",
    "plt.show()"
   ]
  },
  {
   "cell_type": "code",
   "execution_count": 7,
   "id": "64169c81",
   "metadata": {},
   "outputs": [
    {
     "data": {
      "image/png": "[encoded data removed]",
      "text/plain": [
       "<Figure size 640x480 with 1 Axes>"
      ]
     },
     "metadata": {},
     "output_type": "display_data"
    }
   ],
   "source": [
    "plt.imshow(hog_images_train[test_img], cmap='gray')\n",
    "plt.title(\"HOG Visualization\")\n",
    "plt.show()"
   ]
  },
  {
   "cell_type": "code",
   "execution_count": 8,
   "id": "5a44c28b",
   "metadata": {},
   "outputs": [],
   "source": [
    "X_train = X_train.reshape(-1, 32*32*3)"
   ]
  },
  {
   "cell_type": "code",
   "execution_count": 9,
   "id": "220c1f31",
   "metadata": {},
   "outputs": [
    {
     "name": "stdout",
     "output_type": "stream",
     "text": [
      "Plain Images Accuracy: \n",
      "HOG Features Accuracy: 0.8051800819743612\n"
     ]
    }
   ],
   "source": [
    "# svm_plain = SVC(kernel='linear', probability=True, random_state=42)\n",
    "#svm_plain.fit(X_train, y_train) ## just the Images as it is\n",
    "svm_hog = SVC(kernel='linear', probability=True, random_state=42)\n",
    "svm_hog.fit(hog_features_train, y_train)\n",
    "\n",
    "#_pred_plain = svm_plain.predict(X_test)\n",
    "y_pred_hog = svm_hog.predict(hog_features_test)\n",
    "#accuracy_plain = accuracy_score(y_test, y_pred_plain)\n",
    "accuracy_hog = accuracy_score(y_test, y_pred_hog)\n",
    "print(f\"Plain Images Accuracy: \\nHOG Features Accuracy: {accuracy_hog}\")"
   ]
  },
  {
   "cell_type": "code",
   "execution_count": 11,
   "id": "332fa5c1",
   "metadata": {},
   "outputs": [
    {
     "data": {
      "text/plain": [
       "['/home/theodoros/projects/Traffic_signs/svm_hog_model.joblib']"
      ]
     },
     "execution_count": 11,
     "metadata": {},
     "output_type": "execute_result"
    }
   ],
   "source": [
    "import joblib\n",
    "joblib.dump(svm_hog, '/home/theodoros/projects/Traffic_signs/svm_hog_model.joblib')\n"
   ]
  },
  {
   "cell_type": "code",
   "execution_count": null,
   "id": "d34740c5",
   "metadata": {},
   "outputs": [],
   "source": []
  }
 ],
 "metadata": {
  "kernelspec": {
   "display_name": "Python 3 (ipykernel)",
   "language": "python",
   "name": "python3"
  },
  "language_info": {
   "codemirror_mode": {
    "name": "ipython",
    "version": 3
   },
   "file_extension": ".py",
   "mimetype": "text/x-python",
   "name": "python",
   "nbconvert_exporter": "python",
   "pygments_lexer": "ipython3",
   "version": "3.11.11"
  }
 },
 "nbformat": 4,
 "nbformat_minor": 5
}
